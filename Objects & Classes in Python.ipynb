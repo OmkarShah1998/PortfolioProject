{
 "cells": [
  {
   "cell_type": "code",
   "execution_count": 11,
   "id": "31ab750e",
   "metadata": {},
   "outputs": [
    {
     "name": "stdout",
     "output_type": "stream",
     "text": [
      "Hi I am Omkar\n",
      "I'm eligible to vote\n"
     ]
    }
   ],
   "source": [
    "class Person:\n",
    "    \n",
    "    def __init__ (self):\n",
    "    \n",
    "        self.name =\"Omkar\"\n",
    "        self.gender=\"Male\"\n",
    "        self.age=23\n",
    "        \n",
    "    def talk(self):\n",
    "        print(\"Hi I am\",self.name)\n",
    "    def vote(self):\n",
    "        if self.age<18:\n",
    "             print(\"I'm not eligible to vote\")\n",
    "        else:\n",
    "            print(\"I'm eligible to vote\")\n",
    "            \n",
    "obj=Person()\n",
    "obj.talk()\n",
    "obj.vote()\n",
    "    \n",
    "    "
   ]
  },
  {
   "cell_type": "code",
   "execution_count": 13,
   "id": "ab113c52",
   "metadata": {},
   "outputs": [
    {
     "name": "stdout",
     "output_type": "stream",
     "text": [
      "Hi I am Omkar\n",
      "I'm eligible to vote\n",
      "Hi I am Ananya\n",
      "I'm not eligible to vote\n"
     ]
    }
   ],
   "source": [
    "class Person:\n",
    "    \n",
    "    def __init__ (self,n,g,a):\n",
    "    \n",
    "        self.name =n\n",
    "        self.gender=g\n",
    "        self.age=a\n",
    "        \n",
    "    def talk(self):\n",
    "        print(\"Hi I am\",self.name)\n",
    "    def vote(self):\n",
    "        if self.age<18:\n",
    "             print(\"I'm not eligible to vote\")\n",
    "        else:\n",
    "            print(\"I'm eligible to vote\")\n",
    "            \n",
    "obj1=Person(\"Omkar\",\"Male\",23)\n",
    "obj2=Person(\"Ananya\",\"Female\",17)\n",
    "\n",
    "obj1.talk()\n",
    "obj1.vote()\n",
    "\n",
    "obj2.talk()\n",
    "obj2.vote()"
   ]
  },
  {
   "cell_type": "code",
   "execution_count": 15,
   "id": "c0f1e1f6",
   "metadata": {},
   "outputs": [
    {
     "name": "stdout",
     "output_type": "stream",
     "text": [
      "155 KMPH\n",
      "155 KMPH\n",
      "155 KMPH\n",
      "155 KMPH\n"
     ]
    }
   ],
   "source": [
    "class car:\n",
    "    def getspeed(self):\n",
    "        print('155 KMPH')\n",
    "BMW= car()\n",
    "Ford=car()\n",
    "\n",
    "BMW.getspeed()\n",
    "Ford.getspeed()\n",
    "\n",
    "car.getspeed(BMW)\n",
    "car.getspeed(Ford)"
   ]
  },
  {
   "cell_type": "code",
   "execution_count": 20,
   "id": "0fcb6102",
   "metadata": {},
   "outputs": [
    {
     "name": "stdout",
     "output_type": "stream",
     "text": [
      "Maximum speed is: 155\n",
      "Maximum speed is: 140\n"
     ]
    }
   ],
   "source": [
    "class car():\n",
    "    \n",
    "    def __init__(self,year,speed):\n",
    "        self.year=year\n",
    "        self.speed=speed\n",
    "    def getspeed(self):\n",
    "        print(\"Maximum speed is:\",self.speed)\n",
    "        \n",
    "BMW= car(2018,155)\n",
    "Ford=car(2016,140)\n",
    "\n",
    "BMW.getspeed()\n",
    "Ford.getspeed()\n"
   ]
  },
  {
   "cell_type": "code",
   "execution_count": 1,
   "id": "b76cb43e",
   "metadata": {},
   "outputs": [
    {
     "name": "stdout",
     "output_type": "stream",
     "text": [
      "Maximum speed is 155\n",
      "Maximum speed is 140\n",
      "Maximum speed is 155\n",
      "Maximum speed is 150\n",
      "trunk has been opened\n"
     ]
    }
   ],
   "source": [
    "class car():\n",
    "    def __init__(self,year,speed) :\n",
    "        self.year=year\n",
    "        self.speed=speed\n",
    "    def getspeed(self):\n",
    "        print(\"Maximum speed is\",self.speed)\n",
    "BMW= car(2018,155)\n",
    "Ford=car(2016,140)\n",
    "\n",
    "BMW.getspeed()\n",
    "Ford.getspeed()\n",
    "\n",
    "class sedan(car): #child class\n",
    "    def accelerate(self):\n",
    "        print('i37')\n",
    "    def opentrunk(self):\n",
    "        print('trunk has been opened')\n",
    "\n",
    "class SUV(car):\n",
    "    def accelerate(self):\n",
    "        print('127')\n",
    "Honda=sedan(2018,150)\n",
    "BMW.getspeed()\n",
    "Honda.getspeed()\n",
    "Honda.opentrunk()"
   ]
  },
  {
   "cell_type": "code",
   "execution_count": null,
   "id": "8abd22fb",
   "metadata": {},
   "outputs": [],
   "source": []
  }
 ],
 "metadata": {
  "kernelspec": {
   "display_name": "Python 3 (ipykernel)",
   "language": "python",
   "name": "python3"
  },
  "language_info": {
   "codemirror_mode": {
    "name": "ipython",
    "version": 3
   },
   "file_extension": ".py",
   "mimetype": "text/x-python",
   "name": "python",
   "nbconvert_exporter": "python",
   "pygments_lexer": "ipython3",
   "version": "3.9.7"
  }
 },
 "nbformat": 4,
 "nbformat_minor": 5
}
