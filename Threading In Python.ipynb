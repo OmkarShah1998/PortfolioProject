{
 "cells": [
  {
   "cell_type": "code",
   "execution_count": 1,
   "id": "c1c3b365",
   "metadata": {},
   "outputs": [
    {
     "name": "stdout",
     "output_type": "stream",
     "text": [
      "This is a child thread\n",
      "This is a parent theead\n"
     ]
    }
   ],
   "source": [
    "from threading import *\n",
    "def show():\n",
    "      print(\"This is a child thread\")\n",
    "t=Thread(target=show())\n",
    "t.start()\n",
    "print(\"This is a parent theead\")"
   ]
  },
  {
   "cell_type": "code",
   "execution_count": 2,
   "id": "35170f51",
   "metadata": {},
   "outputs": [
    {
     "name": "stdout",
     "output_type": "stream",
     "text": [
      "\n",
      "This is a child class\n",
      "\n",
      "This is a child class\n",
      "\n",
      " This is the main thread\n",
      "\n",
      " This is the main thread\n",
      "\n",
      " This is the main thread\n",
      "\n",
      " This is the main thread\n",
      "\n",
      " This is the main thread\n",
      "\n",
      "This is a child class\n",
      "\n",
      "This is a child class\n",
      "\n",
      "This is a child class\n"
     ]
    }
   ],
   "source": [
    "from threading import *\n",
    "class MyThread(Thread):\n",
    "    def run(self):\n",
    "        for i in range(5):\n",
    "            print(\"\\nThis is a child class\")\n",
    "t=MyThread()\n",
    "t.start()\n",
    "for i in range(5):\n",
    "    print(\"\\n This is the main thread\")"
   ]
  },
  {
   "cell_type": "code",
   "execution_count": 4,
   "id": "8979c3b8",
   "metadata": {},
   "outputs": [
    {
     "name": "stdout",
     "output_type": "stream",
     "text": [
      "\n",
      "This is a child thread\n",
      "\n",
      "This is a child thread\n",
      "\n",
      "This is a child thread\n",
      "\n",
      "This is a child thread\n",
      "\n",
      "This is a child thread\n",
      "\n",
      " This is the parent thread\n",
      "\n",
      " This is the parent thread\n",
      "\n",
      " This is the parent thread\n",
      "\n",
      " This is the parent thread\n",
      "\n",
      " This is the parent thread\n"
     ]
    }
   ],
   "source": [
    "from threading import *\n",
    "class Demo:\n",
    "    def show(self):\n",
    "        for i in range(5):\n",
    "            print(\"\\nThis is a child thread\")\n",
    "obj=Demo()\n",
    "t=Thread(target=obj.show())\n",
    "t.start()\n",
    "for i in range(5):\n",
    "    print(\"\\n This is the parent thread\")"
   ]
  },
  {
   "cell_type": "markdown",
   "id": "8a5a4aee",
   "metadata": {},
   "source": [
    "# Multithreading"
   ]
  },
  {
   "cell_type": "code",
   "execution_count": 6,
   "id": "397199fa",
   "metadata": {},
   "outputs": [
    {
     "name": "stdout",
     "output_type": "stream",
     "text": [
      "The number is 1\n",
      "The double of the number is 2\n",
      "The square of the number is 1\n",
      "This is the main thread\n",
      "The number is 2\n",
      "The double of the number is 4\n",
      "The square of the number is 4\n",
      "The number is 3\n",
      "The double of the number is 6\n",
      "The square of the number is 9\n",
      "The number is 4\n",
      "The double of the number is 8\n",
      "The square of the number is 16\n",
      "The number is 5\n",
      "The double of the number is 10\n",
      "The square of the number is 25\n"
     ]
    }
   ],
   "source": [
    "from threading import*\n",
    "import time\n",
    "class Demo:\n",
    "    def num(self):\n",
    "        for i in range(1,6):\n",
    "            print(\"The number is\",i)\n",
    "            time.sleep(1)\n",
    "    def double(self):\n",
    "        for i in range(1,6):\n",
    "            print(\"The double of the number is\",2*i)\n",
    "            time.sleep(1)\n",
    "    def square(self):\n",
    "        for i in range(1,6):\n",
    "            print(\"The square of the number is\",i*i)\n",
    "            time.sleep(1)\n",
    "\n",
    "obj=Demo()\n",
    "t1= Thread(target=obj.num)\n",
    "t2= Thread(target=obj.double)\n",
    "t3= Thread(target=obj.square)\n",
    "\n",
    "t1.start()\n",
    "time.sleep(0.2)\n",
    "t2.start()\n",
    "time.sleep(0.2)\n",
    "t3.start()\n",
    "\n",
    "print(\"This is the main thread\")\n"
   ]
  },
  {
   "cell_type": "code",
   "execution_count": null,
   "id": "cad64a0e",
   "metadata": {},
   "outputs": [],
   "source": []
  }
 ],
 "metadata": {
  "kernelspec": {
   "display_name": "Python 3 (ipykernel)",
   "language": "python",
   "name": "python3"
  },
  "language_info": {
   "codemirror_mode": {
    "name": "ipython",
    "version": 3
   },
   "file_extension": ".py",
   "mimetype": "text/x-python",
   "name": "python",
   "nbconvert_exporter": "python",
   "pygments_lexer": "ipython3",
   "version": "3.9.7"
  }
 },
 "nbformat": 4,
 "nbformat_minor": 5
}
