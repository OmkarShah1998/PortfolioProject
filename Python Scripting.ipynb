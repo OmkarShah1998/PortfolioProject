{
 "cells": [
  {
   "cell_type": "code",
   "execution_count": 3,
   "id": "1a36ede0",
   "metadata": {},
   "outputs": [
    {
     "name": "stdout",
     "output_type": "stream",
     "text": [
      "C:\\Users\\omkar\n"
     ]
    }
   ],
   "source": [
    "import os\n",
    "\n",
    "def current_directory():\n",
    "     cwd=os.getcwd()\n",
    "     print(cwd)\n",
    "\n",
    "current_directory()"
   ]
  },
  {
   "cell_type": "code",
   "execution_count": 4,
   "id": "6ffbdd92",
   "metadata": {},
   "outputs": [
    {
     "name": "stdout",
     "output_type": "stream",
     "text": [
      "C:\\Users\\omkar\n",
      "C:\\Users\\omkar\\sample.txt\n"
     ]
    }
   ],
   "source": [
    "import os\n",
    "\n",
    "def current_directory():\n",
    "     cwd=os.getcwd()\n",
    "     print(cwd)\n",
    "def file_path(filename):\n",
    "    path=os.path.abspath((filename))\n",
    "    print(path)    \n",
    "\n",
    "current_directory()\n",
    "filename=\"sample.txt\"\n",
    "file_path(filename)"
   ]
  },
  {
   "cell_type": "code",
   "execution_count": 9,
   "id": "62c79ee8",
   "metadata": {},
   "outputs": [
    {
     "name": "stdout",
     "output_type": "stream",
     "text": [
      "1650002948.420782\n"
     ]
    }
   ],
   "source": [
    "import time\n",
    "\n",
    "epc=time.time()\n",
    "print(epc)"
   ]
  },
  {
   "cell_type": "code",
   "execution_count": 3,
   "id": "b1dfcad1",
   "metadata": {},
   "outputs": [
    {
     "name": "stdout",
     "output_type": "stream",
     "text": [
      "1650056190.6900995\n",
      "time.struct_time(tm_year=2022, tm_mon=4, tm_mday=16, tm_hour=2, tm_min=26, tm_sec=30, tm_wday=5, tm_yday=106, tm_isdst=0)\n"
     ]
    }
   ],
   "source": [
    "import time\n",
    "\n",
    "epc=time.time()\n",
    "print(epc)\n",
    "localtime=time.localtime(epc)\n",
    "print(localtime)"
   ]
  },
  {
   "cell_type": "code",
   "execution_count": 4,
   "id": "55331e11",
   "metadata": {},
   "outputs": [
    {
     "name": "stdout",
     "output_type": "stream",
     "text": [
      "1650056371.4052064\n",
      "time.struct_time(tm_year=2022, tm_mon=4, tm_mday=16, tm_hour=2, tm_min=29, tm_sec=31, tm_wday=5, tm_yday=106, tm_isdst=0)\n",
      "Sat Apr 16 02:29:31 2022\n"
     ]
    }
   ],
   "source": [
    "import time\n",
    "\n",
    "epc=time.time()\n",
    "print(epc)\n",
    "localtime=time.localtime(epc)\n",
    "print(localtime)\n",
    "print(time.ctime(epc))"
   ]
  },
  {
   "cell_type": "code",
   "execution_count": 15,
   "id": "24c91622",
   "metadata": {},
   "outputs": [
    {
     "name": "stdout",
     "output_type": "stream",
     "text": [
      "File Created\n"
     ]
    }
   ],
   "source": [
    "from os import path\n",
    "def createFile(dest):\n",
    "    if not (path.isfile(dest)):\n",
    "        f=open(dest,'w')\n",
    "        f.write(\" Welcome to Python scripting \")\n",
    "        f.close()\n",
    "        \n",
    "dest=\"C:\\\\Users\\\\omkar\\\\sample.txt\"\n",
    "\n",
    "createFile(dest)\n",
    "\n",
    "print(\"File Created\")"
   ]
  },
  {
   "cell_type": "code",
   "execution_count": 31,
   "id": "204d3f11",
   "metadata": {},
   "outputs": [
    {
     "name": "stdout",
     "output_type": "stream",
     "text": [
      "10\n",
      "20\n",
      "30\n",
      "40\n",
      "sdsdszcss\n"
     ]
    }
   ],
   "source": [
    "def func1(*args):\n",
    "     for i in args:\n",
    "        print(i)\n",
    "        \n",
    "func1(10,20,30,40,'sdsdszcss')        "
   ]
  },
  {
   "cell_type": "code",
   "execution_count": 34,
   "id": "896575f7",
   "metadata": {},
   "outputs": [
    {
     "name": "stdout",
     "output_type": "stream",
     "text": [
      "('a', 10)\n",
      "('b', 20)\n",
      "('c', 30)\n",
      "('d', 40)\n"
     ]
    }
   ],
   "source": [
    "def func1 (*args,**kwargs):\n",
    "     for i in kwargs.items():\n",
    "            print(i)\n",
    "        \n",
    "func1(a=10,b=20,c=30,d=40,)    "
   ]
  },
  {
   "cell_type": "code",
   "execution_count": 37,
   "id": "a7ecb978",
   "metadata": {},
   "outputs": [
    {
     "name": "stdout",
     "output_type": "stream",
     "text": [
      "21\n"
     ]
    }
   ],
   "source": [
    "def func1():\n",
    "    x=20\n",
    "    def func2(x):\n",
    "        return x+1\n",
    "    return func2(x)\n",
    "result=func1()\n",
    "print(result)"
   ]
  },
  {
   "cell_type": "code",
   "execution_count": 41,
   "id": "7be8c044",
   "metadata": {},
   "outputs": [
    {
     "name": "stdout",
     "output_type": "stream",
     "text": [
      "This is the first function\n",
      "This is the nested function\n",
      "This is the outer function\n"
     ]
    }
   ],
   "source": [
    "def func1(called_func):\n",
    "    print(\"This is the first function\")\n",
    "    def nested_func1(called_func):\n",
    "        print(\"This is the nested function\")\n",
    "        called_func()\n",
    "    return nested_func1(called_func)\n",
    "def outer_func():\n",
    "    print(\"This is the outer function\")\n",
    "    \n",
    "obj=func1(outer_func)    "
   ]
  },
  {
   "cell_type": "code",
   "execution_count": 44,
   "id": "376140ee",
   "metadata": {},
   "outputs": [
    {
     "name": "stdout",
     "output_type": "stream",
     "text": [
      "5\n",
      "10\n"
     ]
    }
   ],
   "source": [
    "#factory\n",
    "\n",
    "B=type(\"BaseClass\", (object,),{})\n",
    "C1=type(\"C1\",(B,),{'val':5})\n",
    "C2=type(\"C1\",(B,),{'val':10})\n",
    "\n",
    "def ClassCreator(bool):\n",
    "    if bool:\n",
    "        return C1()\n",
    "    else:\n",
    "        return C2()\n",
    "\n",
    "print(ClassCreator(True).val)\n",
    "print(ClassCreator(False).val)"
   ]
  },
  {
   "cell_type": "code",
   "execution_count": 50,
   "id": "77d8632e",
   "metadata": {},
   "outputs": [
    {
     "name": "stdout",
     "output_type": "stream",
     "text": [
      "This is the first function\n",
      "This is the nested function\n",
      "This is the outer function\n"
     ]
    }
   ],
   "source": [
    "def func1(called_func):\n",
    "    print(\"This is the first function\")\n",
    "    def nested_func1():\n",
    "        print(\"This is the nested function\")\n",
    "        called_func()\n",
    "    return nested_func1\n",
    "\n",
    "@func1\n",
    "def outer_func():\n",
    "    print(\"This is the outer function\")\n",
    "    \n",
    "outer_func()"
   ]
  },
  {
   "cell_type": "code",
   "execution_count": null,
   "id": "b5a89ea6",
   "metadata": {},
   "outputs": [],
   "source": []
  }
 ],
 "metadata": {
  "kernelspec": {
   "display_name": "Python 3 (ipykernel)",
   "language": "python",
   "name": "python3"
  },
  "language_info": {
   "codemirror_mode": {
    "name": "ipython",
    "version": 3
   },
   "file_extension": ".py",
   "mimetype": "text/x-python",
   "name": "python",
   "nbconvert_exporter": "python",
   "pygments_lexer": "ipython3",
   "version": "3.9.7"
  }
 },
 "nbformat": 4,
 "nbformat_minor": 5
}
