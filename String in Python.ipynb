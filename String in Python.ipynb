{
 "cells": [
  {
   "cell_type": "code",
   "execution_count": 1,
   "id": "1aa0ba86",
   "metadata": {},
   "outputs": [
    {
     "name": "stdout",
     "output_type": "stream",
     "text": [
      "<class 'str'>\n"
     ]
    }
   ],
   "source": [
    "stg='Simplilearn'\n",
    "print(type(stg))"
   ]
  },
  {
   "cell_type": "code",
   "execution_count": 2,
   "id": "6439badd",
   "metadata": {},
   "outputs": [],
   "source": [
    "stg=\"Tim's Birthday\""
   ]
  },
  {
   "cell_type": "code",
   "execution_count": 3,
   "id": "a35c480e",
   "metadata": {},
   "outputs": [
    {
     "name": "stdout",
     "output_type": "stream",
     "text": [
      "Tim's Birthday\n"
     ]
    }
   ],
   "source": [
    "print(stg)"
   ]
  },
  {
   "cell_type": "code",
   "execution_count": 7,
   "id": "b688402c",
   "metadata": {},
   "outputs": [
    {
     "name": "stdout",
     "output_type": "stream",
     "text": [
      "Tim said,\"I'm busy today\"\n"
     ]
    }
   ],
   "source": [
    "stg='Tim said,\"I\\'m busy today\"'\n",
    "print(stg)"
   ]
  },
  {
   "cell_type": "code",
   "execution_count": 8,
   "id": "7674b2ba",
   "metadata": {},
   "outputs": [],
   "source": [
    "stg='''Hey there!\n",
    "Welcome to Lucknow'''"
   ]
  },
  {
   "cell_type": "code",
   "execution_count": 9,
   "id": "c99033a0",
   "metadata": {},
   "outputs": [
    {
     "name": "stdout",
     "output_type": "stream",
     "text": [
      "Hey there!\n",
      "Welcome to Lucknow\n"
     ]
    }
   ],
   "source": [
    "print(stg)"
   ]
  },
  {
   "cell_type": "code",
   "execution_count": 10,
   "id": "9b96a46a",
   "metadata": {},
   "outputs": [
    {
     "name": "stdout",
     "output_type": "stream",
     "text": [
      "7\n"
     ]
    }
   ],
   "source": [
    "stg=\"Lucknow\"\n",
    "print(len(stg))"
   ]
  },
  {
   "cell_type": "code",
   "execution_count": 12,
   "id": "de8d780b",
   "metadata": {},
   "outputs": [
    {
     "name": "stdout",
     "output_type": "stream",
     "text": [
      "o\n"
     ]
    }
   ],
   "source": [
    "stg='Lucknow'\n",
    "print(stg[5])"
   ]
  },
  {
   "cell_type": "code",
   "execution_count": 17,
   "id": "8cbbda2b",
   "metadata": {},
   "outputs": [
    {
     "name": "stdout",
     "output_type": "stream",
     "text": [
      "Lucknow"
     ]
    }
   ],
   "source": [
    "stg=\"Lucknow\"\n",
    "for i in stg:\n",
    "    print(i, end=\"\")"
   ]
  },
  {
   "cell_type": "code",
   "execution_count": 20,
   "id": "18979228",
   "metadata": {},
   "outputs": [
    {
     "name": "stdout",
     "output_type": "stream",
     "text": [
      "Luc\n"
     ]
    }
   ],
   "source": [
    "stg='Lucknow'\n",
    "print(stg[:3])"
   ]
  },
  {
   "cell_type": "code",
   "execution_count": 21,
   "id": "04274102",
   "metadata": {},
   "outputs": [
    {
     "name": "stdout",
     "output_type": "stream",
     "text": [
      "know\n"
     ]
    }
   ],
   "source": [
    "stg='Lucknow'\n",
    "print(stg[3:])"
   ]
  },
  {
   "cell_type": "code",
   "execution_count": 27,
   "id": "6bcc667a",
   "metadata": {},
   "outputs": [
    {
     "name": "stdout",
     "output_type": "stream",
     "text": [
      " WELCOME TO LUCKNOW\n",
      "welcome to lucknow\n"
     ]
    }
   ],
   "source": [
    "stg=' Welcome to Lucknow'\n",
    "print(stg.upper())\n",
    "stg='Welcome to Lucknow'\n",
    "print(stg.lower())"
   ]
  },
  {
   "cell_type": "code",
   "execution_count": 26,
   "id": "738df367",
   "metadata": {},
   "outputs": [
    {
     "name": "stdout",
     "output_type": "stream",
     "text": [
      "welcome to lucknow\n"
     ]
    }
   ],
   "source": [
    "stg='Welcome to Lucknow'\n",
    "print(stg.lower())"
   ]
  },
  {
   "cell_type": "code",
   "execution_count": 29,
   "id": "e9a72f61",
   "metadata": {},
   "outputs": [
    {
     "name": "stdout",
     "output_type": "stream",
     "text": [
      "1\n",
      "1\n"
     ]
    }
   ],
   "source": [
    "print(stg.find('e'))\n",
    "print(stg.index('e'))"
   ]
  },
  {
   "cell_type": "code",
   "execution_count": 30,
   "id": "0d85b1ea",
   "metadata": {},
   "outputs": [
    {
     "name": "stdout",
     "output_type": "stream",
     "text": [
      "['Welcome', 'to', 'Lucknow']\n"
     ]
    }
   ],
   "source": [
    "print(stg.split(\" \"))"
   ]
  },
  {
   "cell_type": "code",
   "execution_count": 31,
   "id": "ee9d245d",
   "metadata": {},
   "outputs": [],
   "source": [
    "x=stg.split(\" \")"
   ]
  },
  {
   "cell_type": "code",
   "execution_count": 32,
   "id": "d9f0ad28",
   "metadata": {},
   "outputs": [
    {
     "name": "stdout",
     "output_type": "stream",
     "text": [
      "['Welcome', 'to', 'Lucknow']\n"
     ]
    }
   ],
   "source": [
    "print(x)"
   ]
  },
  {
   "cell_type": "code",
   "execution_count": 33,
   "id": "1c4eb4cd",
   "metadata": {},
   "outputs": [
    {
     "data": {
      "text/plain": [
       "'Bonjour to Lucknow'"
      ]
     },
     "execution_count": 33,
     "metadata": {},
     "output_type": "execute_result"
    }
   ],
   "source": [
    "stg.replace(\"Welcome\",\"Bonjour\")"
   ]
  },
  {
   "cell_type": "code",
   "execution_count": 34,
   "id": "29f72d20",
   "metadata": {},
   "outputs": [
    {
     "name": "stdout",
     "output_type": "stream",
     "text": [
      "('Welcome', ' to ', 'Lucknow')\n"
     ]
    }
   ],
   "source": [
    "print(stg.rpartition(\" to \"))"
   ]
  },
  {
   "cell_type": "code",
   "execution_count": 51,
   "id": "c5b1a0bd",
   "metadata": {},
   "outputs": [],
   "source": [
    "stg1=\"good\"\n",
    "\n",
    "stg2=\"boy\"\n"
   ]
  },
  {
   "cell_type": "code",
   "execution_count": 52,
   "id": "f981fbc5",
   "metadata": {},
   "outputs": [
    {
     "name": "stdout",
     "output_type": "stream",
     "text": [
      "good boy\n"
     ]
    }
   ],
   "source": [
    "conc= stg1 +\" \"+ stg2\n",
    "print(conc)"
   ]
  },
  {
   "cell_type": "code",
   "execution_count": 53,
   "id": "fadd3a9c",
   "metadata": {},
   "outputs": [
    {
     "name": "stdout",
     "output_type": "stream",
     "text": [
      " Chicken  Tikka , Masala!\n"
     ]
    }
   ],
   "source": [
    "stg1=\"Chicken\"\n",
    "stg2=\"Tikka\"\n",
    "stg3=\"Masala\"\n",
    "stg=\" {}  {} , {}!\".format(stg1,stg2,stg3)\n",
    "print(stg)"
   ]
  },
  {
   "cell_type": "code",
   "execution_count": null,
   "id": "134d3547",
   "metadata": {},
   "outputs": [],
   "source": []
  }
 ],
 "metadata": {
  "kernelspec": {
   "display_name": "Python 3 (ipykernel)",
   "language": "python",
   "name": "python3"
  },
  "language_info": {
   "codemirror_mode": {
    "name": "ipython",
    "version": 3
   },
   "file_extension": ".py",
   "mimetype": "text/x-python",
   "name": "python",
   "nbconvert_exporter": "python",
   "pygments_lexer": "ipython3",
   "version": "3.9.7"
  }
 },
 "nbformat": 4,
 "nbformat_minor": 5
}
