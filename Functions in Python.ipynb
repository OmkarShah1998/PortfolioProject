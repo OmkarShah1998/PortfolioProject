{
 "cells": [
  {
   "cell_type": "code",
   "execution_count": 1,
   "id": "87141846",
   "metadata": {},
   "outputs": [
    {
     "name": "stdout",
     "output_type": "stream",
     "text": [
      "Nawab's Place\n"
     ]
    }
   ],
   "source": [
    "def Lucknow():\n",
    "    print(\"Nawab's Place\")\n",
    "Lucknow()    "
   ]
  },
  {
   "cell_type": "code",
   "execution_count": 6,
   "id": "55013697",
   "metadata": {},
   "outputs": [
    {
     "name": "stdout",
     "output_type": "stream",
     "text": [
      "The total is 50\n",
      "The total is 8\n"
     ]
    }
   ],
   "source": [
    "def add(a,b):\n",
    "    total=a+b\n",
    "    print(\"The total is\",total)\n",
    "add(20,30)\n",
    "\n",
    "x=2\n",
    "y=6\n",
    "add(x,y)\n"
   ]
  },
  {
   "cell_type": "code",
   "execution_count": 13,
   "id": "9890ff1a",
   "metadata": {},
   "outputs": [
    {
     "name": "stdout",
     "output_type": "stream",
     "text": [
      "a:10    b:30\n",
      "The sum is 40\n"
     ]
    }
   ],
   "source": [
    "def add(b,a):\n",
    "    total=a+b\n",
    "    print(\"a:%d    b:%d\" %(a,b))\n",
    "    print(\"The sum is\",total)\n",
    "          \n",
    "add(a=10,b=30)"
   ]
  },
  {
   "cell_type": "code",
   "execution_count": 14,
   "id": "909fbc3d",
   "metadata": {},
   "outputs": [
    {
     "name": "stdout",
     "output_type": "stream",
     "text": [
      "a:10    b:0\n",
      "The sum is 10\n"
     ]
    }
   ],
   "source": [
    "def add(a=0,b=0):\n",
    "    total=a+b\n",
    "    print(\"a:%d    b:%d\" %(a,b))\n",
    "    print(\"The sum is\",total)\n",
    "          \n",
    "add(a=10)"
   ]
  },
  {
   "cell_type": "code",
   "execution_count": 16,
   "id": "63c0f2f9",
   "metadata": {},
   "outputs": [
    {
     "name": "stdout",
     "output_type": "stream",
     "text": [
      "The sum is 150\n"
     ]
    }
   ],
   "source": [
    "def add(*a):\n",
    "    total=0\n",
    "    for i in a:\n",
    "        total=total+i\n",
    "    print(\"The sum is\", total)\n",
    "add(10,20,30,40,50)\n",
    "    "
   ]
  },
  {
   "cell_type": "code",
   "execution_count": 17,
   "id": "c4a2d842",
   "metadata": {},
   "outputs": [
    {
     "name": "stdout",
     "output_type": "stream",
     "text": [
      "2693984578128 2693984578448\n",
      "2693984578128 2693984578448\n",
      "2693984577872 2693984577968\n",
      "The sum is  7\n",
      "The sum is 30\n"
     ]
    }
   ],
   "source": [
    "def add(a,b):\n",
    "    print(id(a),id(b))\n",
    "    a=2\n",
    "    b=5\n",
    "    print(id(a),id(b))\n",
    "    total=a+b\n",
    "    print(\"The sum is \", total)\n",
    "\n",
    "x=10\n",
    "y=20\n",
    "print(id(x),id(y))\n",
    "add(x,y)\n",
    "print(\"The sum is\",x+y)\n",
    "    "
   ]
  },
  {
   "cell_type": "code",
   "execution_count": 23,
   "id": "b83b0b79",
   "metadata": {},
   "outputs": [
    {
     "name": "stdout",
     "output_type": "stream",
     "text": [
      "[0, 1, 2]\n",
      "[0, 1, 0]\n"
     ]
    }
   ],
   "source": [
    "def add(lst):\n",
    "    lst[2]=0\n",
    "lst=[0,1,2]\n",
    "print(lst)\n",
    "add(lst)\n",
    "print(lst)"
   ]
  },
  {
   "cell_type": "code",
   "execution_count": 26,
   "id": "6a1fa809",
   "metadata": {},
   "outputs": [
    {
     "name": "stdout",
     "output_type": "stream",
     "text": [
      "The sum is 30\n"
     ]
    }
   ],
   "source": [
    "def add(a,b):\n",
    "    total=a+b\n",
    "    return total\n",
    "\n",
    "result=add(10,20)\n",
    "print(\"The sum is\", result)"
   ]
  },
  {
   "cell_type": "code",
   "execution_count": null,
   "id": "b87871d3",
   "metadata": {},
   "outputs": [],
   "source": []
  }
 ],
 "metadata": {
  "kernelspec": {
   "display_name": "Python 3 (ipykernel)",
   "language": "python",
   "name": "python3"
  },
  "language_info": {
   "codemirror_mode": {
    "name": "ipython",
    "version": 3
   },
   "file_extension": ".py",
   "mimetype": "text/x-python",
   "name": "python",
   "nbconvert_exporter": "python",
   "pygments_lexer": "ipython3",
   "version": "3.9.7"
  }
 },
 "nbformat": 4,
 "nbformat_minor": 5
}
