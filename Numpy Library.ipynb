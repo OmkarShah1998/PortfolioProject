{
 "cells": [
  {
   "cell_type": "code",
   "execution_count": 3,
   "id": "90c54ce8",
   "metadata": {},
   "outputs": [],
   "source": [
    "import numpy as np"
   ]
  },
  {
   "cell_type": "code",
   "execution_count": 4,
   "id": "9a1401d4",
   "metadata": {},
   "outputs": [
    {
     "data": {
      "text/plain": [
       "array([1, 2, 3])"
      ]
     },
     "execution_count": 4,
     "metadata": {},
     "output_type": "execute_result"
    }
   ],
   "source": [
    "a=np.array([1,2,3])\n",
    "a"
   ]
  },
  {
   "cell_type": "code",
   "execution_count": 5,
   "id": "b1f75913",
   "metadata": {},
   "outputs": [
    {
     "data": {
      "text/plain": [
       "1"
      ]
     },
     "execution_count": 5,
     "metadata": {},
     "output_type": "execute_result"
    }
   ],
   "source": [
    "a[0]"
   ]
  },
  {
   "cell_type": "code",
   "execution_count": 6,
   "id": "199319a9",
   "metadata": {},
   "outputs": [
    {
     "data": {
      "text/plain": [
       "3"
      ]
     },
     "execution_count": 6,
     "metadata": {},
     "output_type": "execute_result"
    }
   ],
   "source": [
    "a[2]"
   ]
  },
  {
   "cell_type": "code",
   "execution_count": null,
   "id": "2bd403d3",
   "metadata": {},
   "outputs": [],
   "source": [
    "#numoy array vs Python list"
   ]
  },
  {
   "cell_type": "code",
   "execution_count": 6,
   "id": "0f958adc",
   "metadata": {},
   "outputs": [
    {
     "name": "stdout",
     "output_type": "stream",
     "text": [
      "28000\n"
     ]
    }
   ],
   "source": [
    "import time\n",
    "import sys\n",
    "\n",
    "\n",
    "b=range(1000)\n",
    "print(sys.getsizeof(5)* len(b))"
   ]
  },
  {
   "cell_type": "code",
   "execution_count": 7,
   "id": "394f2e4f",
   "metadata": {},
   "outputs": [
    {
     "name": "stdout",
     "output_type": "stream",
     "text": [
      "4000\n"
     ]
    }
   ],
   "source": [
    "c=np.arange(1000)\n",
    "print(c.size*c.itemsize)"
   ]
  },
  {
   "cell_type": "code",
   "execution_count": 1,
   "id": "0207bec6",
   "metadata": {},
   "outputs": [],
   "source": [
    "size=100000"
   ]
  },
  {
   "cell_type": "code",
   "execution_count": 4,
   "id": "a41f4a48",
   "metadata": {},
   "outputs": [],
   "source": [
    "L1= range(size)\n",
    "L2= range(size)\n",
    "A1=np.arange(size)\n",
    "A2=np.arange(size)"
   ]
  },
  {
   "cell_type": "code",
   "execution_count": 14,
   "id": "efb4a7a2",
   "metadata": {},
   "outputs": [
    {
     "name": "stdout",
     "output_type": "stream",
     "text": [
      "python list took : 30.971765518188477\n"
     ]
    }
   ],
   "source": [
    "start= time.time()\n",
    "result = [(x+y) for x,y in zip (L1,L2)]\n",
    "result = [(x+y) for x,y in zip (L1,L2)]\n",
    "print(\"python list took :\",(time.time()-start)*1000)"
   ]
  },
  {
   "cell_type": "code",
   "execution_count": 13,
   "id": "617a05e4",
   "metadata": {},
   "outputs": [
    {
     "name": "stdout",
     "output_type": "stream",
     "text": [
      "numpy array took : 0.6880760192871094\n"
     ]
    }
   ],
   "source": [
    "start= time.time()\n",
    "result=A1+A2\n",
    "print(\"numpy array took :\",(time.time()-start)*1000)"
   ]
  },
  {
   "cell_type": "code",
   "execution_count": 17,
   "id": "f55f30b7",
   "metadata": {},
   "outputs": [
    {
     "data": {
      "text/plain": [
       "array([[1, 2],\n",
       "       [3, 4],\n",
       "       [5, 6]])"
      ]
     },
     "execution_count": 17,
     "metadata": {},
     "output_type": "execute_result"
    }
   ],
   "source": [
    "a= np.array([[1,2],[3,4],[5,6]])\n",
    "a"
   ]
  },
  {
   "cell_type": "code",
   "execution_count": 18,
   "id": "2f1a8df2",
   "metadata": {},
   "outputs": [
    {
     "data": {
      "text/plain": [
       "2"
      ]
     },
     "execution_count": 18,
     "metadata": {},
     "output_type": "execute_result"
    }
   ],
   "source": [
    "a.ndim"
   ]
  },
  {
   "cell_type": "code",
   "execution_count": 19,
   "id": "37e07a0e",
   "metadata": {},
   "outputs": [
    {
     "data": {
      "text/plain": [
       "4"
      ]
     },
     "execution_count": 19,
     "metadata": {},
     "output_type": "execute_result"
    }
   ],
   "source": [
    "a.itemsize"
   ]
  },
  {
   "cell_type": "code",
   "execution_count": 20,
   "id": "6f224e05",
   "metadata": {},
   "outputs": [
    {
     "data": {
      "text/plain": [
       "(3, 2)"
      ]
     },
     "execution_count": 20,
     "metadata": {},
     "output_type": "execute_result"
    }
   ],
   "source": [
    "a.shape"
   ]
  },
  {
   "cell_type": "code",
   "execution_count": 35,
   "id": "3a6bc63c",
   "metadata": {},
   "outputs": [
    {
     "data": {
      "text/plain": [
       "array([[1., 2.],\n",
       "       [3., 4.],\n",
       "       [5., 6.]])"
      ]
     },
     "execution_count": 35,
     "metadata": {},
     "output_type": "execute_result"
    }
   ],
   "source": [
    "a= np.array([[1,2],[3,4],[5,6]],dtype=np.float64)\n",
    "a"
   ]
  },
  {
   "cell_type": "code",
   "execution_count": 36,
   "id": "041cd996",
   "metadata": {},
   "outputs": [
    {
     "data": {
      "text/plain": [
       "8"
      ]
     },
     "execution_count": 36,
     "metadata": {},
     "output_type": "execute_result"
    }
   ],
   "source": [
    "a.itemsize"
   ]
  },
  {
   "cell_type": "code",
   "execution_count": 34,
   "id": "644db0ec",
   "metadata": {},
   "outputs": [
    {
     "data": {
      "text/plain": [
       "array([[1.+0.j, 2.+0.j],\n",
       "       [3.+0.j, 4.+0.j],\n",
       "       [5.+0.j, 6.+0.j]])"
      ]
     },
     "execution_count": 34,
     "metadata": {},
     "output_type": "execute_result"
    }
   ],
   "source": [
    "a= np.array([[1,2],[3,4],[5,6]],dtype=np.complex)\n",
    "a"
   ]
  },
  {
   "cell_type": "code",
   "execution_count": 50,
   "id": "d8715542",
   "metadata": {},
   "outputs": [
    {
     "data": {
      "text/plain": [
       "array([[1., 1., 1., 1.],\n",
       "       [1., 1., 1., 1.],\n",
       "       [1., 1., 1., 1.]])"
      ]
     },
     "execution_count": 50,
     "metadata": {},
     "output_type": "execute_result"
    }
   ],
   "source": [
    "np.ones((3,4))"
   ]
  },
  {
   "cell_type": "code",
   "execution_count": 51,
   "id": "fdaa3b55",
   "metadata": {},
   "outputs": [
    {
     "data": {
      "text/plain": [
       "array([[0., 0., 0., 0.],\n",
       "       [0., 0., 0., 0.],\n",
       "       [0., 0., 0., 0.]])"
      ]
     },
     "execution_count": 51,
     "metadata": {},
     "output_type": "execute_result"
    }
   ],
   "source": [
    "np.zeros((3,4))"
   ]
  },
  {
   "cell_type": "code",
   "execution_count": 56,
   "id": "d0e0fe2d",
   "metadata": {},
   "outputs": [
    {
     "data": {
      "text/plain": [
       "range(0, 5)"
      ]
     },
     "execution_count": 56,
     "metadata": {},
     "output_type": "execute_result"
    }
   ],
   "source": [
    "l=range(5)\n",
    "l"
   ]
  },
  {
   "cell_type": "code",
   "execution_count": 59,
   "id": "0003f39f",
   "metadata": {},
   "outputs": [
    {
     "data": {
      "text/plain": [
       "array([0, 1, 2, 3, 4])"
      ]
     },
     "execution_count": 59,
     "metadata": {},
     "output_type": "execute_result"
    }
   ],
   "source": [
    "np.arange(5)"
   ]
  },
  {
   "cell_type": "code",
   "execution_count": 62,
   "id": "067e7c22",
   "metadata": {},
   "outputs": [
    {
     "name": "stdout",
     "output_type": "stream",
     "text": [
      "concatenation example:\n",
      "['helloabc' 'hixyz']\n"
     ]
    }
   ],
   "source": [
    "print('concatenation example:')\n",
    "print(np.char.add (['hello','hi'],['abc','xyz']))"
   ]
  },
  {
   "cell_type": "code",
   "execution_count": 69,
   "id": "63ac5314",
   "metadata": {},
   "outputs": [
    {
     "name": "stdout",
     "output_type": "stream",
     "text": [
      "Hello Hello Hello Hello Hello \n"
     ]
    }
   ],
   "source": [
    "print(np.char.multiply('Hello ',5))"
   ]
  },
  {
   "cell_type": "code",
   "execution_count": 73,
   "id": "50995371",
   "metadata": {},
   "outputs": [
    {
     "name": "stdout",
     "output_type": "stream",
     "text": [
      "-------Hello -------\n"
     ]
    }
   ],
   "source": [
    "print(np.char.center('Hello ',20,fillchar='-'))"
   ]
  },
  {
   "cell_type": "code",
   "execution_count": 74,
   "id": "1b9d54b8",
   "metadata": {},
   "outputs": [
    {
     "name": "stdout",
     "output_type": "stream",
     "text": [
      "Hello world\n"
     ]
    }
   ],
   "source": [
    "print(np.char.capitalize('hello world'))"
   ]
  },
  {
   "cell_type": "code",
   "execution_count": 75,
   "id": "f4707b0f",
   "metadata": {},
   "outputs": [
    {
     "name": "stdout",
     "output_type": "stream",
     "text": [
      "How Are You Doing ?\n"
     ]
    }
   ],
   "source": [
    "print(np.char.title('how are you doing ?'))"
   ]
  },
  {
   "cell_type": "code",
   "execution_count": 77,
   "id": "eb0af6b5",
   "metadata": {},
   "outputs": [
    {
     "name": "stdout",
     "output_type": "stream",
     "text": [
      "['hello world']\n",
      "hello\n"
     ]
    }
   ],
   "source": [
    "print(np.char.lower(['Hello world']))\n",
    "print(np.char.lower('HELLO'))"
   ]
  },
  {
   "cell_type": "code",
   "execution_count": 78,
   "id": "739b3646",
   "metadata": {},
   "outputs": [
    {
     "name": "stdout",
     "output_type": "stream",
     "text": [
      "['HELLO WORLD']\n",
      "HELLO\n"
     ]
    }
   ],
   "source": [
    "print(np.char.upper(['Hello world']))\n",
    "print(np.char.upper('hello'))"
   ]
  },
  {
   "cell_type": "code",
   "execution_count": 79,
   "id": "c7e9f399",
   "metadata": {},
   "outputs": [
    {
     "name": "stdout",
     "output_type": "stream",
     "text": [
      "['are', 'you', 'coming', 'to', 'the', 'party', '?']\n"
     ]
    }
   ],
   "source": [
    "print(np.char.split(' are you coming to the party ?'))"
   ]
  },
  {
   "cell_type": "code",
   "execution_count": 80,
   "id": "dce346c3",
   "metadata": {},
   "outputs": [
    {
     "name": "stdout",
     "output_type": "stream",
     "text": [
      "['hello', ' how are you ?']\n"
     ]
    }
   ],
   "source": [
    "print(np.char.splitlines('hello\\n how are you ?'))"
   ]
  },
  {
   "cell_type": "code",
   "execution_count": 84,
   "id": "31fb1f00",
   "metadata": {},
   "outputs": [
    {
     "name": "stdout",
     "output_type": "stream",
     "text": [
      "['nin' 'dmin' 'nit']\n"
     ]
    }
   ],
   "source": [
    "print(np.char.strip(['nina','admin','anita'],'a'))"
   ]
  },
  {
   "cell_type": "code",
   "execution_count": 85,
   "id": "c32492e7",
   "metadata": {},
   "outputs": [
    {
     "name": "stdout",
     "output_type": "stream",
     "text": [
      "['d:m:y' 'y-m-d']\n"
     ]
    }
   ],
   "source": [
    "print(np.char.join([':','-'],['dmy','ymd']))"
   ]
  },
  {
   "cell_type": "code",
   "execution_count": 86,
   "id": "2ef29be7",
   "metadata": {},
   "outputs": [
    {
     "name": "stdout",
     "output_type": "stream",
     "text": [
      "He is a good dancer\n"
     ]
    }
   ],
   "source": [
    "print(np.char.replace('He was a good dancer','was','is'))"
   ]
  },
  {
   "cell_type": "code",
   "execution_count": null,
   "id": "7e915e4f",
   "metadata": {},
   "outputs": [],
   "source": []
  }
 ],
 "metadata": {
  "kernelspec": {
   "display_name": "Python 3 (ipykernel)",
   "language": "python",
   "name": "python3"
  },
  "language_info": {
   "codemirror_mode": {
    "name": "ipython",
    "version": 3
   },
   "file_extension": ".py",
   "mimetype": "text/x-python",
   "name": "python",
   "nbconvert_exporter": "python",
   "pygments_lexer": "ipython3",
   "version": "3.9.7"
  }
 },
 "nbformat": 4,
 "nbformat_minor": 5
}
