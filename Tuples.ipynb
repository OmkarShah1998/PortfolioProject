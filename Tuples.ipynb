{
 "cells": [
  {
   "cell_type": "markdown",
   "id": "d5c6b94b",
   "metadata": {},
   "source": [
    "# Creating Tuples"
   ]
  },
  {
   "cell_type": "code",
   "execution_count": 5,
   "id": "c6d940a9",
   "metadata": {},
   "outputs": [
    {
     "name": "stdout",
     "output_type": "stream",
     "text": [
      "<class 'tuple'>\n"
     ]
    }
   ],
   "source": [
    "emp=()\n",
    "print(type(emp))"
   ]
  },
  {
   "cell_type": "code",
   "execution_count": 7,
   "id": "0c977515",
   "metadata": {},
   "outputs": [
    {
     "data": {
      "text/plain": [
       "tuple"
      ]
     },
     "execution_count": 7,
     "metadata": {},
     "output_type": "execute_result"
    }
   ],
   "source": [
    "city=\"Lucknow\",\n",
    "type(city)"
   ]
  },
  {
   "cell_type": "code",
   "execution_count": 11,
   "id": "674c37cb",
   "metadata": {},
   "outputs": [
    {
     "name": "stdout",
     "output_type": "stream",
     "text": [
      "('Lucknow', 'Bangalore', 'Chennai', 'Kolkata')\n"
     ]
    }
   ],
   "source": [
    "city=(\"Lucknow\",\"Bangalore\",\"Chennai\", \"Kolkata\")\n",
    "print(city)"
   ]
  },
  {
   "cell_type": "code",
   "execution_count": 12,
   "id": "eb6b6307",
   "metadata": {},
   "outputs": [
    {
     "data": {
      "text/plain": [
       "'Chennai'"
      ]
     },
     "execution_count": 12,
     "metadata": {},
     "output_type": "execute_result"
    }
   ],
   "source": [
    "city[2]"
   ]
  },
  {
   "cell_type": "code",
   "execution_count": 15,
   "id": "bc48899a",
   "metadata": {},
   "outputs": [
    {
     "data": {
      "text/plain": [
       "'Kolkata'"
      ]
     },
     "execution_count": 15,
     "metadata": {},
     "output_type": "execute_result"
    }
   ],
   "source": [
    "city[-1]"
   ]
  },
  {
   "cell_type": "markdown",
   "id": "0245cda5",
   "metadata": {},
   "source": [
    "# concatenation"
   ]
  },
  {
   "cell_type": "code",
   "execution_count": 16,
   "id": "aa29c67f",
   "metadata": {},
   "outputs": [
    {
     "name": "stdout",
     "output_type": "stream",
     "text": [
      "('Lucknow', 'Bangalore', 'Chennai', 'Kolkata')\n"
     ]
    }
   ],
   "source": [
    "print(city)"
   ]
  },
  {
   "cell_type": "code",
   "execution_count": 18,
   "id": "88873a1d",
   "metadata": {},
   "outputs": [],
   "source": [
    "num=(1,2,3,4)"
   ]
  },
  {
   "cell_type": "code",
   "execution_count": 21,
   "id": "02b457b2",
   "metadata": {},
   "outputs": [
    {
     "name": "stdout",
     "output_type": "stream",
     "text": [
      "('Lucknow', 'Bangalore', 'Chennai', 'Kolkata', 1, 2, 3, 4)\n"
     ]
    }
   ],
   "source": [
    "print(city+num)"
   ]
  },
  {
   "cell_type": "markdown",
   "id": "43fcd436",
   "metadata": {},
   "source": [
    "# Nesting"
   ]
  },
  {
   "cell_type": "code",
   "execution_count": 23,
   "id": "6fc3c682",
   "metadata": {},
   "outputs": [
    {
     "name": "stdout",
     "output_type": "stream",
     "text": [
      "(('Lucknow', 'Bangalore', 'Chennai', 'Kolkata'), (1, 2, 3, 4))\n"
     ]
    }
   ],
   "source": [
    "nest=(city,num)\n",
    "print(nest)"
   ]
  },
  {
   "cell_type": "markdown",
   "id": "f1a2cfea",
   "metadata": {},
   "source": [
    "# Repetition"
   ]
  },
  {
   "cell_type": "code",
   "execution_count": 26,
   "id": "cb5518d8",
   "metadata": {},
   "outputs": [
    {
     "name": "stdout",
     "output_type": "stream",
     "text": [
      "('Python', 'Python', 'Python', 'Python', 'Python')\n"
     ]
    }
   ],
   "source": [
    "rep=(\"Python\",)*5\n",
    "print(rep)"
   ]
  },
  {
   "cell_type": "code",
   "execution_count": 27,
   "id": "b6c0861f",
   "metadata": {},
   "outputs": [
    {
     "name": "stdout",
     "output_type": "stream",
     "text": [
      "('Python', 'Python', 'Python', 'Python', 'Python', 'Python', 'Python', 'Python', 'Python', 'Python')\n"
     ]
    }
   ],
   "source": [
    "rep=(\"Python\",)\n",
    "print(rep*10)"
   ]
  },
  {
   "cell_type": "code",
   "execution_count": 28,
   "id": "8a32be73",
   "metadata": {},
   "outputs": [
    {
     "data": {
      "text/plain": [
       "('Python',)"
      ]
     },
     "execution_count": 28,
     "metadata": {},
     "output_type": "execute_result"
    }
   ],
   "source": [
    "rep"
   ]
  },
  {
   "cell_type": "markdown",
   "id": "ed2ff8a3",
   "metadata": {},
   "source": [
    "# Slicing"
   ]
  },
  {
   "cell_type": "code",
   "execution_count": 30,
   "id": "6a303277",
   "metadata": {},
   "outputs": [
    {
     "data": {
      "text/plain": [
       "(1, 2, 3, 4)"
      ]
     },
     "execution_count": 30,
     "metadata": {},
     "output_type": "execute_result"
    }
   ],
   "source": [
    "num"
   ]
  },
  {
   "cell_type": "code",
   "execution_count": 31,
   "id": "ec1e9305",
   "metadata": {},
   "outputs": [
    {
     "data": {
      "text/plain": [
       "(2, 3, 4)"
      ]
     },
     "execution_count": 31,
     "metadata": {},
     "output_type": "execute_result"
    }
   ],
   "source": [
    "num[1:]"
   ]
  },
  {
   "cell_type": "code",
   "execution_count": 32,
   "id": "03d6fa34",
   "metadata": {},
   "outputs": [
    {
     "data": {
      "text/plain": [
       "(4, 3, 2, 1)"
      ]
     },
     "execution_count": 32,
     "metadata": {},
     "output_type": "execute_result"
    }
   ],
   "source": [
    "num[::-1]"
   ]
  },
  {
   "cell_type": "markdown",
   "id": "e8ea8fe6",
   "metadata": {},
   "source": [
    "# Unpacking"
   ]
  },
  {
   "cell_type": "code",
   "execution_count": 33,
   "id": "fe6b95eb",
   "metadata": {},
   "outputs": [
    {
     "data": {
      "text/plain": [
       "('S', 'i', 'm', 'p', 'l', 'i', 'l', 'e', 'a', 'r', 'n')"
      ]
     },
     "execution_count": 33,
     "metadata": {},
     "output_type": "execute_result"
    }
   ],
   "source": [
    "tuple(\"Simplilearn\")\n"
   ]
  },
  {
   "cell_type": "code",
   "execution_count": 34,
   "id": "7b2e40e1",
   "metadata": {},
   "outputs": [
    {
     "name": "stdout",
     "output_type": "stream",
     "text": [
      "(1, 2, 3, 4)\n"
     ]
    }
   ],
   "source": [
    "print(num)"
   ]
  },
  {
   "cell_type": "code",
   "execution_count": 35,
   "id": "6b5fa4de",
   "metadata": {},
   "outputs": [],
   "source": [
    "a,b,c,d=num"
   ]
  },
  {
   "cell_type": "code",
   "execution_count": 36,
   "id": "54839bd2",
   "metadata": {},
   "outputs": [
    {
     "name": "stdout",
     "output_type": "stream",
     "text": [
      "1 2 3 4\n"
     ]
    }
   ],
   "source": [
    "print(a,b,c,d)"
   ]
  },
  {
   "cell_type": "code",
   "execution_count": 39,
   "id": "363533a2",
   "metadata": {},
   "outputs": [
    {
     "name": "stdout",
     "output_type": "stream",
     "text": [
      "1 [2, 3] 4\n"
     ]
    }
   ],
   "source": [
    "a,*b,c=num\n",
    "print(a,b,c)"
   ]
  },
  {
   "cell_type": "markdown",
   "id": "fcea3fef",
   "metadata": {},
   "source": [
    "# Deleting a Tuple"
   ]
  },
  {
   "cell_type": "code",
   "execution_count": 40,
   "id": "194f80ce",
   "metadata": {},
   "outputs": [],
   "source": [
    "tuple1=1,2,3,4"
   ]
  },
  {
   "cell_type": "code",
   "execution_count": 41,
   "id": "1e165cac",
   "metadata": {},
   "outputs": [
    {
     "name": "stdout",
     "output_type": "stream",
     "text": [
      "(1, 2, 3, 4)\n"
     ]
    }
   ],
   "source": [
    "print(tuple1)"
   ]
  },
  {
   "cell_type": "code",
   "execution_count": 42,
   "id": "dc164650",
   "metadata": {},
   "outputs": [],
   "source": [
    "del tuple1"
   ]
  },
  {
   "cell_type": "code",
   "execution_count": 43,
   "id": "cad25e57",
   "metadata": {},
   "outputs": [
    {
     "ename": "NameError",
     "evalue": "name 'tuple1' is not defined",
     "output_type": "error",
     "traceback": [
      "\u001b[1;31m---------------------------------------------------------------------------\u001b[0m",
      "\u001b[1;31mNameError\u001b[0m                                 Traceback (most recent call last)",
      "\u001b[1;32m~\\AppData\\Local\\Temp/ipykernel_16472/2165157509.py\u001b[0m in \u001b[0;36m<module>\u001b[1;34m\u001b[0m\n\u001b[1;32m----> 1\u001b[1;33m \u001b[0mprint\u001b[0m\u001b[1;33m(\u001b[0m\u001b[0mtuple1\u001b[0m\u001b[1;33m)\u001b[0m\u001b[1;33m\u001b[0m\u001b[1;33m\u001b[0m\u001b[0m\n\u001b[0m",
      "\u001b[1;31mNameError\u001b[0m: name 'tuple1' is not defined"
     ]
    }
   ],
   "source": [
    "print(tuple1)"
   ]
  },
  {
   "cell_type": "markdown",
   "id": "a32040e8",
   "metadata": {},
   "source": [
    "# Built in Function"
   ]
  },
  {
   "cell_type": "code",
   "execution_count": 48,
   "id": "41043208",
   "metadata": {},
   "outputs": [
    {
     "data": {
      "text/plain": [
       "7"
      ]
     },
     "execution_count": 48,
     "metadata": {},
     "output_type": "execute_result"
    }
   ],
   "source": [
    "num1=(1,2,3,4,4,4,4,4,4,4,5,5,5,5,6,7,8,9)\n",
    "num1.count(4)"
   ]
  },
  {
   "cell_type": "code",
   "execution_count": 49,
   "id": "36b38950",
   "metadata": {},
   "outputs": [
    {
     "data": {
      "text/plain": [
       "84"
      ]
     },
     "execution_count": 49,
     "metadata": {},
     "output_type": "execute_result"
    }
   ],
   "source": [
    "sum(num1)"
   ]
  },
  {
   "cell_type": "code",
   "execution_count": 50,
   "id": "a786a08c",
   "metadata": {},
   "outputs": [
    {
     "data": {
      "text/plain": [
       "18"
      ]
     },
     "execution_count": 50,
     "metadata": {},
     "output_type": "execute_result"
    }
   ],
   "source": [
    "len(num1)"
   ]
  },
  {
   "cell_type": "code",
   "execution_count": 51,
   "id": "53195bdf",
   "metadata": {},
   "outputs": [
    {
     "data": {
      "text/plain": [
       "9"
      ]
     },
     "execution_count": 51,
     "metadata": {},
     "output_type": "execute_result"
    }
   ],
   "source": [
    "max(num1)"
   ]
  },
  {
   "cell_type": "code",
   "execution_count": 52,
   "id": "ce2d9998",
   "metadata": {},
   "outputs": [
    {
     "data": {
      "text/plain": [
       "1"
      ]
     },
     "execution_count": 52,
     "metadata": {},
     "output_type": "execute_result"
    }
   ],
   "source": [
    "min(num1)"
   ]
  },
  {
   "cell_type": "code",
   "execution_count": 54,
   "id": "c08af14a",
   "metadata": {},
   "outputs": [
    {
     "name": "stdout",
     "output_type": "stream",
     "text": [
      "4.666666666666667\n"
     ]
    }
   ],
   "source": [
    "avg=sum(num1)/len(num1)\n",
    "print(avg)"
   ]
  },
  {
   "cell_type": "markdown",
   "id": "b80a6b09",
   "metadata": {},
   "source": [
    "# Converting List to Tuple"
   ]
  },
  {
   "cell_type": "code",
   "execution_count": 56,
   "id": "d29a5adf",
   "metadata": {},
   "outputs": [],
   "source": [
    "lst=[1,2,3,4]"
   ]
  },
  {
   "cell_type": "code",
   "execution_count": 57,
   "id": "de2b0464",
   "metadata": {},
   "outputs": [
    {
     "data": {
      "text/plain": [
       "list"
      ]
     },
     "execution_count": 57,
     "metadata": {},
     "output_type": "execute_result"
    }
   ],
   "source": [
    "type(lst)"
   ]
  },
  {
   "cell_type": "code",
   "execution_count": 61,
   "id": "070e88e0",
   "metadata": {},
   "outputs": [
    {
     "name": "stdout",
     "output_type": "stream",
     "text": [
      "[1, 2, 3, 4]\n"
     ]
    },
    {
     "data": {
      "text/plain": [
       "list"
      ]
     },
     "execution_count": 61,
     "metadata": {},
     "output_type": "execute_result"
    }
   ],
   "source": [
    "tpl=tuple(lst)\n",
    "print(lst)\n",
    "type(lst)"
   ]
  },
  {
   "cell_type": "markdown",
   "id": "4c272e1a",
   "metadata": {},
   "source": [
    "# Nesting Tuples in List"
   ]
  },
  {
   "cell_type": "code",
   "execution_count": 76,
   "id": "41598cc9",
   "metadata": {},
   "outputs": [
    {
     "name": "stdout",
     "output_type": "stream",
     "text": [
      "[(1, 2, 3, 4), (5, 6, 7, 8)]\n"
     ]
    }
   ],
   "source": [
    "lst=[(1,2,3,4),(5,6,7,8,)]\n",
    "print(lst)"
   ]
  },
  {
   "cell_type": "code",
   "execution_count": 77,
   "id": "e9503611",
   "metadata": {},
   "outputs": [],
   "source": [
    "lst.append((\"Tuple\", \"Inside\",\"List\"))"
   ]
  },
  {
   "cell_type": "code",
   "execution_count": 78,
   "id": "8c98e875",
   "metadata": {},
   "outputs": [
    {
     "name": "stdout",
     "output_type": "stream",
     "text": [
      "[(1, 2, 3, 4), (5, 6, 7, 8), ('Tuple', 'Inside', 'List')]\n"
     ]
    }
   ],
   "source": [
    "print(lst)"
   ]
  },
  {
   "cell_type": "code",
   "execution_count": 79,
   "id": "93b59764",
   "metadata": {},
   "outputs": [],
   "source": [
    "lst.remove((1,2,3,4))"
   ]
  },
  {
   "cell_type": "code",
   "execution_count": 80,
   "id": "4ba8e311",
   "metadata": {},
   "outputs": [
    {
     "name": "stdout",
     "output_type": "stream",
     "text": [
      "[(5, 6, 7, 8), ('Tuple', 'Inside', 'List')]\n"
     ]
    }
   ],
   "source": [
    "print(lst)"
   ]
  },
  {
   "cell_type": "markdown",
   "id": "c6afadcc",
   "metadata": {},
   "source": [
    "# Nesting Lists within Tuples"
   ]
  },
  {
   "cell_type": "code",
   "execution_count": 94,
   "id": "4e6c80e1",
   "metadata": {},
   "outputs": [],
   "source": [
    "tpl=(['a','b','c','d'],['d','e','f'])"
   ]
  },
  {
   "cell_type": "code",
   "execution_count": 95,
   "id": "8b1c1b1c",
   "metadata": {},
   "outputs": [
    {
     "name": "stdout",
     "output_type": "stream",
     "text": [
      "(['a', 'b', 'c', 'd'], ['d', 'e', 'f'])\n"
     ]
    }
   ],
   "source": [
    "print(tpl)"
   ]
  },
  {
   "cell_type": "code",
   "execution_count": 96,
   "id": "fd2cb656",
   "metadata": {},
   "outputs": [],
   "source": [
    "tpl[0].append('z')"
   ]
  },
  {
   "cell_type": "code",
   "execution_count": 97,
   "id": "ed5b3b60",
   "metadata": {},
   "outputs": [
    {
     "name": "stdout",
     "output_type": "stream",
     "text": [
      "(['a', 'b', 'c', 'd', 'z'], ['d', 'e', 'f'])\n"
     ]
    }
   ],
   "source": [
    "print(tpl)"
   ]
  },
  {
   "cell_type": "code",
   "execution_count": 98,
   "id": "b560114b",
   "metadata": {},
   "outputs": [],
   "source": [
    "tpl[0].remove(\"z\")"
   ]
  },
  {
   "cell_type": "code",
   "execution_count": 99,
   "id": "f93d87a4",
   "metadata": {},
   "outputs": [
    {
     "name": "stdout",
     "output_type": "stream",
     "text": [
      "(['a', 'b', 'c', 'd'], ['d', 'e', 'f'])\n"
     ]
    }
   ],
   "source": [
    "print(tpl)"
   ]
  },
  {
   "cell_type": "code",
   "execution_count": null,
   "id": "416aed03",
   "metadata": {},
   "outputs": [],
   "source": []
  }
 ],
 "metadata": {
  "kernelspec": {
   "display_name": "Python 3 (ipykernel)",
   "language": "python",
   "name": "python3"
  },
  "language_info": {
   "codemirror_mode": {
    "name": "ipython",
    "version": 3
   },
   "file_extension": ".py",
   "mimetype": "text/x-python",
   "name": "python",
   "nbconvert_exporter": "python",
   "pygments_lexer": "ipython3",
   "version": "3.9.7"
  }
 },
 "nbformat": 4,
 "nbformat_minor": 5
}
