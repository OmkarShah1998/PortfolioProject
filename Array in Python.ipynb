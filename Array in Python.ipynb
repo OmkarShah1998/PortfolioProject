{
 "cells": [
  {
   "cell_type": "code",
   "execution_count": 3,
   "id": "017742b1",
   "metadata": {},
   "outputs": [
    {
     "name": "stdout",
     "output_type": "stream",
     "text": [
      "array('i', [1, 2, 3, 4, 5])\n"
     ]
    }
   ],
   "source": [
    "from array import*\n",
    "myarr = array('i',[1,2,3,4,5])\n",
    "print(myarr)"
   ]
  },
  {
   "cell_type": "code",
   "execution_count": 5,
   "id": "b5493ddd",
   "metadata": {},
   "outputs": [
    {
     "name": "stdout",
     "output_type": "stream",
     "text": [
      "(3048073805552, 5)\n"
     ]
    }
   ],
   "source": [
    "print(myarr.buffer_info())\n"
   ]
  },
  {
   "cell_type": "code",
   "execution_count": 6,
   "id": "8a2946fe",
   "metadata": {},
   "outputs": [
    {
     "name": "stdout",
     "output_type": "stream",
     "text": [
      "3\n"
     ]
    }
   ],
   "source": [
    "print(myarr[2])"
   ]
  },
  {
   "cell_type": "code",
   "execution_count": 10,
   "id": "b4b177e3",
   "metadata": {},
   "outputs": [
    {
     "name": "stdout",
     "output_type": "stream",
     "text": [
      "1 2 3 4 5 "
     ]
    }
   ],
   "source": [
    "for i in myarr:\n",
    "    print(i,end=' ')"
   ]
  },
  {
   "cell_type": "code",
   "execution_count": 14,
   "id": "f6a44ceb",
   "metadata": {},
   "outputs": [
    {
     "name": "stdout",
     "output_type": "stream",
     "text": [
      "0 1\n",
      "1 2\n",
      "2 3\n",
      "3 4\n",
      "4 5\n"
     ]
    }
   ],
   "source": [
    "for pnt in range(5):\n",
    "    print(pnt,myarr[pnt])"
   ]
  },
  {
   "cell_type": "code",
   "execution_count": 15,
   "id": "0041dfaa",
   "metadata": {},
   "outputs": [
    {
     "name": "stdout",
     "output_type": "stream",
     "text": [
      "array('i', [5, 4, 3, 2, 1])\n"
     ]
    }
   ],
   "source": [
    "myarr.reverse()\n",
    "print(myarr)"
   ]
  },
  {
   "cell_type": "code",
   "execution_count": 16,
   "id": "7b02c834",
   "metadata": {},
   "outputs": [
    {
     "name": "stdout",
     "output_type": "stream",
     "text": [
      "array('i', [5, 4, 3, 2, 1, 15])\n"
     ]
    }
   ],
   "source": [
    "myarr.append(15)\n",
    "print(myarr)"
   ]
  },
  {
   "cell_type": "code",
   "execution_count": 17,
   "id": "981cd0e9",
   "metadata": {},
   "outputs": [
    {
     "name": "stdout",
     "output_type": "stream",
     "text": [
      "array('i', [5, 4, 3, 1, 15])\n"
     ]
    }
   ],
   "source": [
    "myarr.remove(2)\n",
    "print(myarr)"
   ]
  },
  {
   "cell_type": "code",
   "execution_count": 18,
   "id": "47f34fd8",
   "metadata": {},
   "outputs": [
    {
     "name": "stdout",
     "output_type": "stream",
     "text": [
      "array('i', [1, 2, 3, 4, 5])\n"
     ]
    }
   ],
   "source": [
    "myarr = array('i',[1,2,2,3,4,5])\n",
    "myarr.remove(2)\n",
    "print(myarr)"
   ]
  },
  {
   "cell_type": "code",
   "execution_count": 19,
   "id": "08954706",
   "metadata": {},
   "outputs": [
    {
     "name": "stdout",
     "output_type": "stream",
     "text": [
      "2\n",
      "1\n"
     ]
    }
   ],
   "source": [
    "myarr = array('i',[1,2,2,3,4,5])\n",
    "print(myarr[2])\n",
    "print(myarr.index(2))"
   ]
  },
  {
   "cell_type": "code",
   "execution_count": 22,
   "id": "e2089027",
   "metadata": {},
   "outputs": [
    {
     "name": "stdout",
     "output_type": "stream",
     "text": [
      "Enter size of array6\n",
      "enter 6 elements\n",
      "1\n",
      "2\n",
      "3\n",
      "4\n",
      "5\n",
      "6\n",
      "array('i', [1, 2, 3, 4, 5, 6])\n"
     ]
    }
   ],
   "source": [
    "from array import*\n",
    "\n",
    "myarr=array('i',[])\n",
    "x=int(input(\"Enter size of array\"))\n",
    "print(\"enter %d elements\" %x)\n",
    "for i in range (x):\n",
    "    n=int(input())\n",
    "    myarr.append(n)\n",
    "print(myarr)    "
   ]
  },
  {
   "cell_type": "code",
   "execution_count": null,
   "id": "0319f93d",
   "metadata": {},
   "outputs": [],
   "source": []
  }
 ],
 "metadata": {
  "kernelspec": {
   "display_name": "Python 3 (ipykernel)",
   "language": "python",
   "name": "python3"
  },
  "language_info": {
   "codemirror_mode": {
    "name": "ipython",
    "version": 3
   },
   "file_extension": ".py",
   "mimetype": "text/x-python",
   "name": "python",
   "nbconvert_exporter": "python",
   "pygments_lexer": "ipython3",
   "version": "3.9.7"
  }
 },
 "nbformat": 4,
 "nbformat_minor": 5
}
