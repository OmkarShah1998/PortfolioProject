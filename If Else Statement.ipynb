{
 "cells": [
  {
   "cell_type": "markdown",
   "id": "63a6a8e9",
   "metadata": {},
   "source": [
    "# if else statement"
   ]
  },
  {
   "cell_type": "code",
   "execution_count": 1,
   "id": "655c2f28",
   "metadata": {},
   "outputs": [
    {
     "name": "stdout",
     "output_type": "stream",
     "text": [
      "This is False\n"
     ]
    }
   ],
   "source": [
    "a=100\n",
    "if a>500:\n",
    "     print(\"This is true\")        \n",
    "print(\"This is False\")"
   ]
  },
  {
   "cell_type": "code",
   "execution_count": 7,
   "id": "8b5052ad",
   "metadata": {},
   "outputs": [
    {
     "name": "stdout",
     "output_type": "stream",
     "text": [
      "This is an even number\n"
     ]
    }
   ],
   "source": [
    "b=50\n",
    "if b%2==0:\n",
    "    print(\"This is an even number\")\n",
    "else:\n",
    "    print(\"This is an odd number\")"
   ]
  },
  {
   "cell_type": "markdown",
   "id": "7d0190cc",
   "metadata": {},
   "source": [
    "# Nested if Statement"
   ]
  },
  {
   "cell_type": "code",
   "execution_count": 13,
   "id": "a49f3c22",
   "metadata": {},
   "outputs": [
    {
     "name": "stdout",
     "output_type": "stream",
     "text": [
      "c is greater than 500\n"
     ]
    }
   ],
   "source": [
    "c=600\n",
    "if c<500:\n",
    "    if c%10==0:\n",
    "        print(\"c is even number less than 500\")\n",
    "    else:\n",
    "        print(\"c is odd number less than 500\")\n",
    "else:\n",
    "    print(\"c is greater than 500\")    "
   ]
  },
  {
   "cell_type": "markdown",
   "id": "6b303ced",
   "metadata": {},
   "source": [
    "# if-elif-else ladder"
   ]
  },
  {
   "cell_type": "code",
   "execution_count": 16,
   "id": "ed62417b",
   "metadata": {},
   "outputs": [
    {
     "name": "stdout",
     "output_type": "stream",
     "text": [
      "This is a consonant\n"
     ]
    }
   ],
   "source": [
    "var=\"c\"\n",
    "if var==\"a\":\n",
    "    print(\"This is a vowel a\")\n",
    "elif var==\"e\":\n",
    "    print(\"This is a vowel e\")\n",
    "elif var==\"i\":\n",
    "    print(\"This is a vowel i\")\n",
    "elif var==\"o\":\n",
    "    print(\"This is a vowel o\")\n",
    "elif var==\"u\":\n",
    "    print(\"This is a vowel u\")    \n",
    "else:\n",
    "    print(\"This is a consonant\")"
   ]
  },
  {
   "cell_type": "code",
   "execution_count": null,
   "id": "686724a3",
   "metadata": {},
   "outputs": [],
   "source": []
  }
 ],
 "metadata": {
  "kernelspec": {
   "display_name": "Python 3 (ipykernel)",
   "language": "python",
   "name": "python3"
  },
  "language_info": {
   "codemirror_mode": {
    "name": "ipython",
    "version": 3
   },
   "file_extension": ".py",
   "mimetype": "text/x-python",
   "name": "python",
   "nbconvert_exporter": "python",
   "pygments_lexer": "ipython3",
   "version": "3.9.7"
  }
 },
 "nbformat": 4,
 "nbformat_minor": 5
}
