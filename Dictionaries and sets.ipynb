{
 "cells": [
  {
   "cell_type": "markdown",
   "id": "55f4741e",
   "metadata": {},
   "source": [
    "# Sets and Dictionaries"
   ]
  },
  {
   "cell_type": "markdown",
   "id": "697ea6c6",
   "metadata": {},
   "source": [
    "# creating dictionaries"
   ]
  },
  {
   "cell_type": "code",
   "execution_count": 3,
   "id": "c8eebc29",
   "metadata": {},
   "outputs": [
    {
     "name": "stdout",
     "output_type": "stream",
     "text": [
      "{}\n",
      "<class 'dict'>\n"
     ]
    }
   ],
   "source": [
    "d1={}\n",
    "print(d1)\n",
    "print(type(d1))"
   ]
  },
  {
   "cell_type": "code",
   "execution_count": 7,
   "id": "fda44d4c",
   "metadata": {},
   "outputs": [
    {
     "name": "stdout",
     "output_type": "stream",
     "text": [
      "{1: 'Welcome', 2: 'to', 3: 'Lucknow', 4: 'Tourism'}\n"
     ]
    }
   ],
   "source": [
    "d2={1:'Welcome',2:\"to\",3:\"Lucknow\",4:\"Tourism\"}\n",
    "print(d2)"
   ]
  },
  {
   "cell_type": "code",
   "execution_count": 8,
   "id": "d6df5727",
   "metadata": {},
   "outputs": [
    {
     "name": "stdout",
     "output_type": "stream",
     "text": [
      "{'name': 'Omkar', 'age': 23, 'profession': 'student'}\n"
     ]
    }
   ],
   "source": [
    "d3={\"name\":\"Omkar\",\"age\":23,\"profession\":\"student\"}\n",
    "print(d3)"
   ]
  },
  {
   "cell_type": "code",
   "execution_count": 9,
   "id": "8c905e35",
   "metadata": {},
   "outputs": [
    {
     "name": "stdout",
     "output_type": "stream",
     "text": [
      "{1: 'Welcome', 2: 'to', 3: 'Lucknow', 4: 'Tourism'}\n"
     ]
    }
   ],
   "source": [
    "d4=dict({1:'Welcome',2:\"to\",3:\"Lucknow\",4:\"Tourism\"})\n",
    "print(d4)"
   ]
  },
  {
   "cell_type": "code",
   "execution_count": 11,
   "id": "9b8be21c",
   "metadata": {},
   "outputs": [
    {
     "name": "stdout",
     "output_type": "stream",
     "text": [
      "{1: 'Welcome', 2: 'to', 3: 'Lucknow', 4: 'Tourism'}\n"
     ]
    }
   ],
   "source": [
    "d5=dict([(1,'Welcome'),(2,\"to\"),(3,\"Lucknow\"),(4,\"Tourism\")])\n",
    "print(d5)"
   ]
  },
  {
   "cell_type": "code",
   "execution_count": 13,
   "id": "c3cc07ef",
   "metadata": {},
   "outputs": [
    {
     "name": "stdout",
     "output_type": "stream",
     "text": [
      "{'name': {'first': 'Omkar', 'Last': 'Shah'}, 'age': 23, 'profession': 'student'}\n"
     ]
    }
   ],
   "source": [
    "d6={\"name\":{\"first\":\"Omkar\",\"Last\":\"Shah\"},\"age\":23,\"profession\":\"student\"}\n",
    "print(d6)"
   ]
  },
  {
   "cell_type": "markdown",
   "id": "97b84f70",
   "metadata": {},
   "source": [
    "# Adding Elements"
   ]
  },
  {
   "cell_type": "code",
   "execution_count": 47,
   "id": "9cba6bc0",
   "metadata": {},
   "outputs": [
    {
     "name": "stdout",
     "output_type": "stream",
     "text": [
      "{0: 'Welcome'}\n"
     ]
    }
   ],
   "source": [
    "d={}\n",
    "d[0]=\"Welcome\"\n",
    "print(d)"
   ]
  },
  {
   "cell_type": "code",
   "execution_count": 48,
   "id": "4a2deda5",
   "metadata": {},
   "outputs": [
    {
     "name": "stdout",
     "output_type": "stream",
     "text": [
      "{0: 'Welcome', 1: ('How', 'are', 'you')}\n"
     ]
    }
   ],
   "source": [
    "d[1]=(\"How\",\"are\",\"you\")\n",
    "print(d)"
   ]
  },
  {
   "cell_type": "code",
   "execution_count": 49,
   "id": "462e375a",
   "metadata": {},
   "outputs": [
    {
     "name": "stdout",
     "output_type": "stream",
     "text": [
      "{0: 'Welcome', 1: ('How', 'are', 'you'), 'name': 'sam'}\n"
     ]
    }
   ],
   "source": [
    "d[\"name\"]=\"sam\"\n",
    "print(d)"
   ]
  },
  {
   "cell_type": "code",
   "execution_count": 50,
   "id": "d3ebed2d",
   "metadata": {},
   "outputs": [
    {
     "name": "stdout",
     "output_type": "stream",
     "text": [
      "{0: 'Welcome', 1: ('How', 'are', 'you'), 'name': {'first': 'Omkar', 'Last': 'Shah'}}\n"
     ]
    }
   ],
   "source": [
    "d[\"name\"]={\"first\":\"Omkar\",\"Last\":\"Shah\"}\n",
    "print(d)"
   ]
  },
  {
   "cell_type": "markdown",
   "id": "3044a96d",
   "metadata": {},
   "source": [
    "# Accessing Elements"
   ]
  },
  {
   "cell_type": "code",
   "execution_count": 51,
   "id": "1e1ca0e9",
   "metadata": {},
   "outputs": [
    {
     "name": "stdout",
     "output_type": "stream",
     "text": [
      "{0: 'Welcome', 1: ('How', 'are', 'you'), 'name': {'first': 'Omkar', 'Last': 'Shah'}}\n"
     ]
    }
   ],
   "source": [
    "print(d)"
   ]
  },
  {
   "cell_type": "code",
   "execution_count": 52,
   "id": "091e9e39",
   "metadata": {},
   "outputs": [
    {
     "name": "stdout",
     "output_type": "stream",
     "text": [
      "{'first': 'Omkar', 'Last': 'Shah'}\n"
     ]
    }
   ],
   "source": [
    "print(d[\"name\"])"
   ]
  },
  {
   "cell_type": "code",
   "execution_count": 53,
   "id": "10a09652",
   "metadata": {},
   "outputs": [
    {
     "name": "stdout",
     "output_type": "stream",
     "text": [
      "Omkar\n"
     ]
    }
   ],
   "source": [
    "print(d[\"name\"][\"first\"])"
   ]
  },
  {
   "cell_type": "code",
   "execution_count": 38,
   "id": "6c557659",
   "metadata": {},
   "outputs": [
    {
     "name": "stdout",
     "output_type": "stream",
     "text": [
      "('How', 'are', 'you')\n"
     ]
    }
   ],
   "source": [
    "print(d.get(1))"
   ]
  },
  {
   "cell_type": "markdown",
   "id": "80d9b99d",
   "metadata": {},
   "source": [
    "# Deleting Elements"
   ]
  },
  {
   "cell_type": "code",
   "execution_count": 29,
   "id": "5454cd60",
   "metadata": {},
   "outputs": [
    {
     "name": "stdout",
     "output_type": "stream",
     "text": [
      "{0: 'Welcome', 1: ('How', 'are', 'you'), 'name': {'first': 'Omkar', 'Last': 'Shah'}}\n"
     ]
    }
   ],
   "source": [
    "print(d)"
   ]
  },
  {
   "cell_type": "code",
   "execution_count": 30,
   "id": "5ee41ae7",
   "metadata": {},
   "outputs": [
    {
     "data": {
      "text/plain": [
       "'Welcome'"
      ]
     },
     "execution_count": 30,
     "metadata": {},
     "output_type": "execute_result"
    }
   ],
   "source": [
    "d.pop(0)"
   ]
  },
  {
   "cell_type": "code",
   "execution_count": 31,
   "id": "d7335a53",
   "metadata": {},
   "outputs": [
    {
     "name": "stdout",
     "output_type": "stream",
     "text": [
      "{1: ('How', 'are', 'you'), 'name': {'first': 'Omkar', 'Last': 'Shah'}}\n"
     ]
    }
   ],
   "source": [
    "print(d)"
   ]
  },
  {
   "cell_type": "code",
   "execution_count": 32,
   "id": "34990578",
   "metadata": {},
   "outputs": [
    {
     "data": {
      "text/plain": [
       "('name', {'first': 'Omkar', 'Last': 'Shah'})"
      ]
     },
     "execution_count": 32,
     "metadata": {},
     "output_type": "execute_result"
    }
   ],
   "source": [
    "d.popitem()"
   ]
  },
  {
   "cell_type": "code",
   "execution_count": 33,
   "id": "17a07de1",
   "metadata": {},
   "outputs": [
    {
     "name": "stdout",
     "output_type": "stream",
     "text": [
      "{1: ('How', 'are', 'you')}\n"
     ]
    }
   ],
   "source": [
    "print(d)"
   ]
  },
  {
   "cell_type": "code",
   "execution_count": 54,
   "id": "0d927256",
   "metadata": {},
   "outputs": [
    {
     "name": "stdout",
     "output_type": "stream",
     "text": [
      "{0: 'Welcome', 1: ('How', 'are', 'you'), 'name': {'first': 'Omkar', 'Last': 'Shah'}}\n"
     ]
    }
   ],
   "source": [
    "print(d)"
   ]
  },
  {
   "cell_type": "markdown",
   "id": "e3310002",
   "metadata": {},
   "source": [
    "# Using Built in Functions"
   ]
  },
  {
   "cell_type": "code",
   "execution_count": 55,
   "id": "d7cf5cc2",
   "metadata": {},
   "outputs": [
    {
     "data": {
      "text/plain": [
       "dict_values(['Welcome', ('How', 'are', 'you'), {'first': 'Omkar', 'Last': 'Shah'}])"
      ]
     },
     "execution_count": 55,
     "metadata": {},
     "output_type": "execute_result"
    }
   ],
   "source": [
    "d.values()"
   ]
  },
  {
   "cell_type": "code",
   "execution_count": 56,
   "id": "425cc1d2",
   "metadata": {},
   "outputs": [
    {
     "data": {
      "text/plain": [
       "{'a': 1, 'b': 1, 'c': 1, 'd': 1}"
      ]
     },
     "execution_count": 56,
     "metadata": {},
     "output_type": "execute_result"
    }
   ],
   "source": [
    "keys=('a','b','c','d')\n",
    "value=1\n",
    "dict.fromkeys(keys,value)"
   ]
  },
  {
   "cell_type": "code",
   "execution_count": 57,
   "id": "c5955556",
   "metadata": {},
   "outputs": [],
   "source": [
    "d.clear()"
   ]
  },
  {
   "cell_type": "code",
   "execution_count": 58,
   "id": "7c759a24",
   "metadata": {},
   "outputs": [
    {
     "name": "stdout",
     "output_type": "stream",
     "text": [
      "{}\n"
     ]
    }
   ],
   "source": [
    "print(d)"
   ]
  },
  {
   "cell_type": "markdown",
   "id": "28a20e91",
   "metadata": {},
   "source": [
    "# Sets"
   ]
  },
  {
   "cell_type": "code",
   "execution_count": 61,
   "id": "2e8a11cd",
   "metadata": {},
   "outputs": [
    {
     "name": "stdout",
     "output_type": "stream",
     "text": [
      "{1, 2, 3, 4}\n",
      "<class 'set'>\n"
     ]
    }
   ],
   "source": [
    "s=set([1,2,3,4])\n",
    "print(s)\n",
    "print(type(s))"
   ]
  },
  {
   "cell_type": "code",
   "execution_count": 64,
   "id": "d6e9bf99",
   "metadata": {},
   "outputs": [
    {
     "name": "stdout",
     "output_type": "stream",
     "text": [
      "{1, 2, 3, 4, 'a'}\n"
     ]
    }
   ],
   "source": [
    "s.add(\"a\")\n",
    "print(s)"
   ]
  },
  {
   "cell_type": "code",
   "execution_count": 65,
   "id": "1a26ee6c",
   "metadata": {},
   "outputs": [
    {
     "name": "stdout",
     "output_type": "stream",
     "text": [
      "frozenset({1, 2, 3, 4})\n",
      "<class 'frozenset'>\n"
     ]
    }
   ],
   "source": [
    "fs=frozenset([1,2,3,4])\n",
    "print(fs)\n",
    "print(type(fs))"
   ]
  },
  {
   "cell_type": "code",
   "execution_count": 72,
   "id": "e4d7d763",
   "metadata": {},
   "outputs": [
    {
     "data": {
      "text/plain": [
       "{1, 3, 4, 5, 6, 7, 8, 9}"
      ]
     },
     "execution_count": 72,
     "metadata": {},
     "output_type": "execute_result"
    }
   ],
   "source": [
    "s1=set([1,3,4,6,7,9])\n",
    "s2=set([1,3,5,8,9])\n",
    "s1.union(s2)"
   ]
  },
  {
   "cell_type": "code",
   "execution_count": 73,
   "id": "a28ec507",
   "metadata": {},
   "outputs": [
    {
     "data": {
      "text/plain": [
       "{4, 6, 7}"
      ]
     },
     "execution_count": 73,
     "metadata": {},
     "output_type": "execute_result"
    }
   ],
   "source": [
    "s1.difference(s2)"
   ]
  },
  {
   "cell_type": "code",
   "execution_count": 74,
   "id": "ecd7ab39",
   "metadata": {},
   "outputs": [
    {
     "data": {
      "text/plain": [
       "{5, 8}"
      ]
     },
     "execution_count": 74,
     "metadata": {},
     "output_type": "execute_result"
    }
   ],
   "source": [
    "s2.difference(s1)"
   ]
  },
  {
   "cell_type": "code",
   "execution_count": null,
   "id": "6e075117",
   "metadata": {},
   "outputs": [],
   "source": []
  },
  {
   "cell_type": "code",
   "execution_count": null,
   "id": "3e01e7b5",
   "metadata": {},
   "outputs": [],
   "source": []
  }
 ],
 "metadata": {
  "kernelspec": {
   "display_name": "Python 3 (ipykernel)",
   "language": "python",
   "name": "python3"
  },
  "language_info": {
   "codemirror_mode": {
    "name": "ipython",
    "version": 3
   },
   "file_extension": ".py",
   "mimetype": "text/x-python",
   "name": "python",
   "nbconvert_exporter": "python",
   "pygments_lexer": "ipython3",
   "version": "3.9.7"
  }
 },
 "nbformat": 4,
 "nbformat_minor": 5
}
